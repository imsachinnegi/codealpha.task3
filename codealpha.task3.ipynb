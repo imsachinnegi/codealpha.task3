{
 "cells": [
  {
   "cell_type": "markdown",
   "id": "63066f3a",
   "metadata": {},
   "source": [
    "# Scenario\n",
    "# Suppose you run an e-commerce website and want to evaluate the impact of a new website design (Variant B) compared to the old design (Variant A) on the conversion rate (i.e., the percentage of visitors who make a purchase)."
   ]
  },
  {
   "cell_type": "markdown",
   "id": "962ede12",
   "metadata": {},
   "source": [
    "# Data Collection\n",
    "Assume you have collected the following data over a month:\n",
    "\n",
    "Visitors to Version A: 1,000\n",
    "Visitors to Version B: 1,000\n",
    "Purchases from Version A: 100\n",
    "Purchases from Version B: 130 "
   ]
  },
  {
   "cell_type": "markdown",
   "id": "182ed279",
   "metadata": {},
   "source": [
    "# Steps in A/B Testing Analysis\n",
    "# Define Hypotheses:\n",
    "\n",
    "# Null Hypothesis (H0): There is no difference in conversion rates between Version A and Version B.\n",
    "# Alternative Hypothesis (H1): Version B has a higher conversion rate than Version A.\n",
    "# Calculate Conversion Rates:\n",
    "\n",
    "Conversion Rate A = Purchases A / Visitors A\n",
    "Conversion Rate B = Purchases B / Visitors B\n",
    "Statistical Test:\n",
    "\n",
    "Use a Z-test for proportions to compare the two conversion rates.\n",
    "Draw Conclusions:\n",
    "\n",
    "Analyze the p-value to determine if the result is statistically significant."
   ]
  },
  {
   "cell_type": "code",
   "execution_count": null,
   "id": "048e24bd",
   "metadata": {},
   "outputs": [],
   "source": [
    "import numpy as np\n",
    "import scipy.stats as stats"
   ]
  },
  {
   "cell_type": "code",
   "execution_count": 2,
   "id": "eb2d88fe",
   "metadata": {},
   "outputs": [],
   "source": [
    "# Data\n",
    "visitors_A = 1000\n",
    "purchases_A = 100\n",
    "visitors_B = 1000\n",
    "purchases_B = 130\n"
   ]
  },
  {
   "cell_type": "code",
   "execution_count": 3,
   "id": "ed3d315a",
   "metadata": {},
   "outputs": [],
   "source": [
    "# Calculate conversion rates\n",
    "conversion_A = purchases_A / visitors_A\n",
    "conversion_B = purchases_B / visitors_B"
   ]
  },
  {
   "cell_type": "code",
   "execution_count": 5,
   "id": "df862c95",
   "metadata": {},
   "outputs": [
    {
     "name": "stdout",
     "output_type": "stream",
     "text": [
      "Conversion Rate A: 10.00%\n",
      "Conversion Rate B: 13.00%\n"
     ]
    }
   ],
   "source": [
    "# Print conversion rates\n",
    "print(f\"Conversion Rate A: {conversion_A:.2%}\")\n",
    "print(f\"Conversion Rate B: {conversion_B:.2%}\")"
   ]
  },
  {
   "cell_type": "code",
   "execution_count": 6,
   "id": "f2faa739",
   "metadata": {},
   "outputs": [],
   "source": [
    "# Z-test for proportions\n",
    "def z_test_proportions(p1, n1, p2, n2):\n",
    "    p = (p1 * n1 + p2 * n2) / (n1 + n2)\n",
    "    z = (p1 - p2) / np.sqrt(p * (1 - p) * (1/n1 + 1/n2))\n",
    "    return z, 2 * (1 - stats.norm.cdf(abs(z)))  # two-tailed p-value"
   ]
  },
  {
   "cell_type": "code",
   "execution_count": 7,
   "id": "272d3988",
   "metadata": {},
   "outputs": [],
   "source": [
    "# Proportions\n",
    "p1 = conversion_A\n",
    "n1 = visitors_A\n",
    "p2 = conversion_B\n",
    "n2 = visitors_B"
   ]
  },
  {
   "cell_type": "code",
   "execution_count": 8,
   "id": "06ac1ad8",
   "metadata": {},
   "outputs": [],
   "source": [
    "# Perform Z-test\n",
    "z_value, p_value = z_test_proportions(p1, n1, p2, n2)"
   ]
  },
  {
   "cell_type": "code",
   "execution_count": 9,
   "id": "8065db5a",
   "metadata": {},
   "outputs": [
    {
     "name": "stdout",
     "output_type": "stream",
     "text": [
      "Z-value: -2.10\n",
      "P-value: 0.03549\n"
     ]
    }
   ],
   "source": [
    "\n",
    "# Print results\n",
    "print(f\"Z-value: {z_value:.2f}\")\n",
    "print(f\"P-value: {p_value:.5f}\")"
   ]
  },
  {
   "cell_type": "code",
   "execution_count": 10,
   "id": "c2bc08fd",
   "metadata": {},
   "outputs": [
    {
     "name": "stdout",
     "output_type": "stream",
     "text": [
      "Reject the null hypothesis: Significant difference in conversion rates.\n"
     ]
    }
   ],
   "source": [
    "# Conclusion\n",
    "alpha = 0.05\n",
    "if p_value < alpha:\n",
    "    print(\"Reject the null hypothesis: Significant difference in conversion rates.\")\n",
    "else:\n",
    "    print(\"Fail to reject the null hypothesis: No significant difference in conversion rates.\")"
   ]
  },
  {
   "cell_type": "markdown",
   "id": "6f31a2f3",
   "metadata": {},
   "source": [
    "# Output Interpretation\n",
    "Conversion Rates: You'll see the conversion rates for both versions.\n",
    "Z-value and P-value: Indicates the strength of evidence against the null hypothesis.\n",
    "Conclusion: Based on the p-value, you will either reject or fail to reject the null hypothesis.\n"
   ]
  },
  {
   "cell_type": "markdown",
   "id": "3110c7ca",
   "metadata": {},
   "source": [
    "# Actionable Insights\n",
    "If the test shows a statistically significant improvement in conversion rates with Version B, you might consider fully implementing the new design.\n",
    "If there's no significant difference, you may want to analyze user feedback or other metrics to identify potential improvements."
   ]
  },
  {
   "cell_type": "code",
   "execution_count": null,
   "id": "2bb71a88",
   "metadata": {},
   "outputs": [],
   "source": []
  }
 ],
 "metadata": {
  "kernelspec": {
   "display_name": "Python 3 (ipykernel)",
   "language": "python",
   "name": "python3"
  },
  "language_info": {
   "codemirror_mode": {
    "name": "ipython",
    "version": 3
   },
   "file_extension": ".py",
   "mimetype": "text/x-python",
   "name": "python",
   "nbconvert_exporter": "python",
   "pygments_lexer": "ipython3",
   "version": "3.11.4"
  }
 },
 "nbformat": 4,
 "nbformat_minor": 5
}
